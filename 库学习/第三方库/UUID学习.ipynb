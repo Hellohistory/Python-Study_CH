{
 "cells": [
  {
   "cell_type": "markdown",
   "source": [
    "在Python中，UUID（Universally Unique Identifier，通用唯一识别码）是用于生成唯一的标识符的一个标准。Python的`uuid`模块可以生成四种不同类型的UUID，每种类型的UUID都有其特定的生成方式和用途。下面是Python中生成UUID的几种方式：\n",
    "\n",
    "1. **UUID1**：基于时间和节点（MAC地址）生成UUID。这种方法可以保证在同一时间内生成的UUID的唯一性，并且能够通过UUID反推生成时间和节点信息。\n",
    "\n",
    "2. **UUID3**：基于名字的MD5散列值生成UUID。这种方法需要提供一个命名空间（一个UUID）和一个名字（字符串），通过对这两者进行MD5散列来生成UUID。\n",
    "\n",
    "3. **UUID4**：随机生成UUID。这种方法生成的UUID完全是随机的，因此其唯一性完全依赖于随机数的质量。\n",
    "\n",
    "4. **UUID5**：基于名字的SHA-1散列值生成UUID。这种方法和UUID3类似，但是使用SHA-1散列算法代替MD5，使得生成的UUID更为安全。\n"
   ],
   "metadata": {
    "collapsed": false
   },
   "id": "3f2118ba435989f8"
  },
  {
   "cell_type": "code",
   "outputs": [],
   "source": [
    "import uuid\n",
    "\n",
    "# 生成UUID1\n",
    "uuid1 = uuid.uuid1()\n",
    "print(f\"UUID1: {uuid1}\")\n",
    "\n",
    "# 生成UUID3\n",
    "namespace = uuid.NAMESPACE_DNS\n",
    "name = \"example.com\"\n",
    "uuid3 = uuid.uuid3(namespace, name)\n",
    "print(f\"UUID3: {uuid3}\")\n",
    "\n",
    "# 生成UUID4\n",
    "uuid4 = uuid.uuid4()\n",
    "print(f\"UUID4: {uuid4}\")\n",
    "\n",
    "# 生成UUID5\n",
    "uuid5 = uuid.uuid5(namespace, name)\n",
    "print(f\"UUID5: {uuid5}\")"
   ],
   "metadata": {
    "collapsed": false
   },
   "id": "567b86b054d87999",
   "execution_count": null
  },
  {
   "cell_type": "markdown",
   "source": [
    "\n",
    "在选择使用哪种UUID时，需要根据你的具体需求来决定。比如，如果你需要根据特定的名字生成一个始终不变的UUID，那么可以选择使用UUID3或UUID5。如果你需要的UUID完全是随机的，并且不需要反推任何信息，则可以使用UUID4。"
   ],
   "metadata": {
    "collapsed": false
   },
   "id": "dcb046c39fb9d5d0"
  }
 ],
 "metadata": {
  "kernelspec": {
   "display_name": "Python 3",
   "language": "python",
   "name": "python3"
  },
  "language_info": {
   "codemirror_mode": {
    "name": "ipython",
    "version": 2
   },
   "file_extension": ".py",
   "mimetype": "text/x-python",
   "name": "python",
   "nbconvert_exporter": "python",
   "pygments_lexer": "ipython2",
   "version": "2.7.6"
  }
 },
 "nbformat": 4,
 "nbformat_minor": 5
}
