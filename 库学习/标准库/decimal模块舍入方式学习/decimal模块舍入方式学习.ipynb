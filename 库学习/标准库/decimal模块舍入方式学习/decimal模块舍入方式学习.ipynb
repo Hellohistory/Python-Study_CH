{
 "cells": [
  {
   "cell_type": "markdown",
   "source": [
    "`decimal` 模块当中是使用 `Context` 对象用于控制精度、舍入方式。这些都是通过设置不同的“模式”来实现的。下面是详细讲解`decimal`的舍入方式："
   ],
   "metadata": {
    "collapsed": false
   },
   "id": "a8763235331306f9"
  },
  {
   "cell_type": "markdown",
   "source": [
    "### 1. ROUND_DOWN\n",
    "向零方向舍入，即去掉需要舍入的位数后的所有数字。"
   ],
   "metadata": {
    "collapsed": false
   },
   "id": "64cd7d8c46cac306"
  },
  {
   "cell_type": "code",
   "outputs": [],
   "source": [
    "import decimal\n",
    "\n",
    "# ROUND_DOWN模式\n",
    "decimal.getcontext().rounding = decimal.ROUND_DOWN\n",
    "\n",
    "a = decimal.Decimal('2.39')\n",
    "# 向下舍入到小数点后一位\n",
    "a_rounded = a.quantize(decimal.Decimal('0.0'))\n",
    "print(\"a向下舍入后的值为\", a_rounded)  # 输出结果应该为2.3\n"
   ],
   "metadata": {
    "collapsed": false
   },
   "id": "42196f6666d0e970",
   "execution_count": null
  },
  {
   "cell_type": "markdown",
   "source": [
    "\n",
    "### 2. ROUND_UP\n",
    "远离零方向舍入，只要存在舍入位数后的数字，就向上舍入。"
   ],
   "metadata": {
    "collapsed": false
   },
   "id": "a3308d02b9308bb9"
  },
  {
   "cell_type": "code",
   "outputs": [],
   "source": [
    "import decimal\n",
    "\n",
    "# ROUND_UP模式\n",
    "decimal.getcontext().rounding = decimal.ROUND_UP\n",
    "\n",
    "a = decimal.Decimal('2.31')\n",
    "# 向上舍入到小数点后一位\n",
    "a_rounded = a.quantize(decimal.Decimal('0.0'))\n",
    "print(\"a向上舍入后的值为\", a_rounded)  # 输出结果应该为2.4\n"
   ],
   "metadata": {
    "collapsed": false
   },
   "id": "859b5e2c48444ff6",
   "execution_count": null
  },
  {
   "cell_type": "markdown",
   "source": [
    "\n",
    "### 3. ROUND_HALF_UP\n",
    "最近舍入。如果舍入位数的下一位数字大于或等于 5，则向上舍入；否则，向下舍入，这个就是常说的四舍五入。"
   ],
   "metadata": {
    "collapsed": false
   },
   "id": "1e68bbcd33cd4b58"
  },
  {
   "cell_type": "code",
   "outputs": [],
   "source": [
    "import decimal\n",
    "\n",
    "# ROUND_HALF_UP模式\n",
    "decimal.getcontext().rounding = decimal.ROUND_HALF_UP\n",
    "\n",
    "a = decimal.Decimal('22.5')\n",
    "# 四舍五入到整数\n",
    "a_rounded = a.to_integral_value()\n",
    "print(\"a四舍五入后的值为\", a_rounded)  # 输出结果应该为23\n",
    "\n",
    "b = decimal.Decimal('6.542')\n",
    "# 四舍五入到小数点后两位\n",
    "b_rounded = b.quantize(decimal.Decimal('0.00'))\n",
    "print(\"b四舍五入后的值为\", b_rounded)  # 输出结果应该为6.54\n"
   ],
   "metadata": {
    "collapsed": false
   },
   "id": "d7bfbaab3afa31b8",
   "execution_count": null
  },
  {
   "cell_type": "markdown",
   "source": [
    "\n",
    "### 4. ROUND_HALF_DOWN\n",
    "最近舍入，但如果舍入位数的下一位数字为 5，则向下舍入。"
   ],
   "metadata": {
    "collapsed": false
   },
   "id": "be9e2f48e2b13990"
  },
  {
   "cell_type": "code",
   "outputs": [],
   "source": [
    "import decimal\n",
    "\n",
    "# ROUND_HALF_DOWN模式\n",
    "decimal.getcontext().rounding = decimal.ROUND_HALF_DOWN\n",
    "\n",
    "a = decimal.Decimal('2.35')\n",
    "# 向下舍入到小数点后一位\n",
    "a_rounded = a.quantize(decimal.Decimal('0.0'))\n",
    "print(\"a向下舍入后的值为\", a_rounded)  # 输出结果应该为2.3"
   ],
   "metadata": {
    "collapsed": false
   },
   "id": "a499b81ebe5d650e",
   "execution_count": null
  },
  {
   "cell_type": "markdown",
   "source": [
    "\n",
    "### 5. ROUND_HALF_EVEN\n",
    "这种舍入方法被称为`银行家舍入法`。如果舍入位数的下一位数字为 5，且之后没有其他数字或者只有零，则仅当舍入位数为奇数时才向上舍入；否则，向下舍入。"
   ],
   "metadata": {
    "collapsed": false
   },
   "id": "2c7f198dc43cd21c"
  },
  {
   "cell_type": "code",
   "outputs": [],
   "source": [
    "import decimal\n",
    "\n",
    "# ROUND_HALF_EVEN模式\n",
    "decimal.getcontext().rounding = decimal.ROUND_HALF_EVEN\n",
    "\n",
    "a = decimal.Decimal('2.35')\n",
    "# 向偶数舍入到小数点后一位\n",
    "a_rounded = a.quantize(decimal.Decimal('0.0'))\n",
    "print(\"a向偶数舍入后的值为\", a_rounded)  # 输出结果应该为2.4\n",
    "\n",
    "b = decimal.Decimal('2.25')\n",
    "# 同样向偶数舍入到小数点后一位\n",
    "b_rounded = b.quantize(decimal.Decimal('0.0'))\n",
    "print(\"b向偶数舍入后的值为\", b_rounded)  # 输出结果应该为2.2\n"
   ],
   "metadata": {
    "collapsed": false
   },
   "id": "10836502967a0a78",
   "execution_count": null
  },
  {
   "cell_type": "markdown",
   "source": [
    "### 6. ROUND_CEILING\n",
    "向正无穷方向舍入，不论数字的符号，都向上舍入。"
   ],
   "metadata": {
    "collapsed": false
   },
   "id": "2dc45c1db20f36e6"
  },
  {
   "cell_type": "code",
   "outputs": [],
   "source": [
    "import decimal\n",
    "\n",
    "# ROUND_CEILING模式\n",
    "decimal.getcontext().rounding = decimal.ROUND_CEILING\n",
    "\n",
    "a = decimal.Decimal('2.31')\n",
    "# 向上舍入到小数点后一位\n",
    "a_rounded = a.quantize(decimal.Decimal('0.0'))\n",
    "print(\"a向上舍入后的值为\", a_rounded)  # 输出结果应该为2.4\n"
   ],
   "metadata": {
    "collapsed": false
   },
   "id": "f9f3bb0051500794",
   "execution_count": null
  },
  {
   "cell_type": "markdown",
   "source": [
    "### 7. ROUND_FLOOR\n",
    "向负无穷方向舍入，不论数字的符号，都向下舍入。"
   ],
   "metadata": {
    "collapsed": false
   },
   "id": "766a40371d4ae5e9"
  },
  {
   "cell_type": "code",
   "outputs": [],
   "source": [
    "import decimal\n",
    "\n",
    "# ROUND_FLOOR模式\n",
    "decimal.getcontext().rounding = decimal.ROUND_FLOOR\n",
    "\n",
    "a = decimal.Decimal('2.39')\n",
    "# 向下舍入到小数点后一位\n",
    "a_rounded = a.quantize(decimal.Decimal('0.0'))\n",
    "print(\"a向下舍入后的值为\", a_rounded)  # 输出结果应该为2.3\n"
   ],
   "metadata": {
    "collapsed": false
   },
   "id": "417bae34401e7997",
   "execution_count": null
  },
  {
   "cell_type": "markdown",
   "source": [
    "### 8. ROUND_05UP\n",
    "特殊舍入规则，仅当舍入位数的下一位为 0 或 5 时才向上舍入。"
   ],
   "metadata": {
    "collapsed": false
   },
   "id": "620786ff8fbfc171"
  },
  {
   "cell_type": "code",
   "outputs": [],
   "source": [
    "import decimal\n",
    "\n",
    "# ROUND_05UP模式\n",
    "decimal.getcontext().rounding = decimal.ROUND_05UP\n",
    "\n",
    "a = decimal.Decimal('2.36')\n",
    "# 向上舍入到小数点后一位\n",
    "a_rounded = a.quantize(decimal.Decimal('0.0'))\n",
    "print(\"a向上舍入后的值为\", a_rounded)  # 输出结果应该为2.3\n"
   ],
   "metadata": {
    "collapsed": false
   },
   "id": "40d81aa80e83314a",
   "execution_count": null
  },
  {
   "cell_type": "markdown",
   "source": [],
   "metadata": {
    "collapsed": false
   },
   "id": "1a04da8351697a14"
  }
 ],
 "metadata": {
  "kernelspec": {
   "display_name": "Python 3",
   "language": "python",
   "name": "python3"
  },
  "language_info": {
   "codemirror_mode": {
    "name": "ipython",
    "version": 2
   },
   "file_extension": ".py",
   "mimetype": "text/x-python",
   "name": "python",
   "nbconvert_exporter": "python",
   "pygments_lexer": "ipython2",
   "version": "2.7.6"
  }
 },
 "nbformat": 4,
 "nbformat_minor": 5
}
