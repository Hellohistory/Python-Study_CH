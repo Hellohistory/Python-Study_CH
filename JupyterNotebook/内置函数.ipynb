{
 "cells": [
  {
   "cell_type": "markdown",
   "source": [
    "Python当中存在很多的内置函数，可以用于数学计算，字符串操作，列表操作，元组操作，字典操作，集合操作，文件操作，对象操作，异常操作等。\n"
   ],
   "metadata": {
    "collapsed": false
   },
   "id": "300ad2af4177e18f"
  },
  {
   "cell_type": "markdown",
   "source": [
    "## 1.abs():返回数字的绝对值。\n"
   ],
   "metadata": {
    "collapsed": false
   },
   "id": "17df14bc014c06a9"
  },
  {
   "cell_type": "code",
   "outputs": [],
   "source": [
    "x= -10\n",
    "print(abs(x)) #输出10"
   ],
   "metadata": {
    "collapsed": false
   },
   "id": "5c73d113e4637466",
   "execution_count": null
  },
  {
   "cell_type": "markdown",
   "source": [
    "## 2.all(iterable):如果iterable中的元素全部为true，返回true，否则返回false。"
   ],
   "metadata": {
    "collapsed": false
   },
   "id": "55c2c73302a54a13"
  },
  {
   "cell_type": "code",
   "outputs": [],
   "source": [
    "iterable = [True, False, True]\n",
    "print(iterable)"
   ],
   "metadata": {
    "collapsed": false
   },
   "id": "be39fa2273163643"
  },
  {
   "cell_type": "markdown",
   "source": [
    "## 3.any(iterable):如果iterable中的元素有一个为true，返回true，否则返回false。"
   ],
   "metadata": {
    "collapsed": false
   },
   "id": "a1911d69e075dece"
  },
  {
   "cell_type": "code",
   "outputs": [],
   "source": [
    "iterable = [True, False, True]\n",
    "print(iterable)"
   ],
   "metadata": {
    "collapsed": false
   },
   "id": "5a2f4f522fed7105"
  },
  {
   "cell_type": "markdown",
   "source": [
    "## 4.bin(x):将十进制整数转换为二进制字符串。\n",
    "在Python中，`bool(x)`函数是用来将一个值转换为布尔类型（`True`或`False`）的函数。这个转换基于Python中的真值测试（truthiness）规则。根据这些规则，某些值被视为“真”（转换为`True`），而其他一些值被视为“假”（转换为`False`）。\n",
    "\n",
    "下面是一些基本规则，用于判断不同类型的值在转换为布尔类型时的结果：\n",
    "\n",
    "1. **数值类型**：任何非零的数字（无论是正数还是负数，包括非零浮点数）都会转换为`True`，而`0`（包括`0.0`）会转换为`False`。\n",
    "2. **字符串和类似序列的类型**（如列表、元组、字典、集合）：任何非空的序列或集合都会转换为`True`，而空序列（`''`、`[]`、`()`、`{}`）会转换为`False`。\n",
    "3. **`None`类型**：`None`总是转换为`False`。\n",
    "4. **自定义对象**：默认情况下，自定义对象会被视为真值（即转换为`True`）。但是，如果类定义了`__bool__()`或`__len__()`方法，Python会使用这些方法的返回值来决定对象的布尔值。如果`__bool__()`方法返回`True`或`False`，那么就直接使用这个值。如果定义了`__len__()`方法，当方法返回非零时对象被视为`True`，返回`0`时被视为`False`。\n",
    "\n",
    "这种转换的设计原则是为了提供一种简便的方式，让开发者可以在条件表达式（如`if`语句）中直接使用各种类型的值，而不必显式地进行比较操作。例如，可以直接使用`if my_list:`来检查`my_list`是否非空，而不需要使用`if len(my_list) > 0:`。\n",
    "\n",
    "这种设计哲学体现了Python的“显式优于隐式”的理念，旨在使代码更易读、易写。通过这种方式，Python确保了代码的简洁性和可读性，同时也保持了灵活性。"
   ],
   "metadata": {
    "collapsed": false
   },
   "id": "c229a17133aee748"
  },
  {
   "cell_type": "code",
   "outputs": [],
   "source": [
    "X = 10\n",
    "print(bin(X))"
   ],
   "metadata": {
    "collapsed": false
   },
   "id": "bd1db57df981b58"
  },
  {
   "cell_type": "markdown",
   "source": [],
   "metadata": {
    "collapsed": false
   },
   "id": "e1fb0311e6658fc8"
  }
 ],
 "metadata": {
  "kernelspec": {
   "display_name": "Python 3",
   "language": "python",
   "name": "python3"
  },
  "language_info": {
   "codemirror_mode": {
    "name": "ipython",
    "version": 2
   },
   "file_extension": ".py",
   "mimetype": "text/x-python",
   "name": "python",
   "nbconvert_exporter": "python",
   "pygments_lexer": "ipython2",
   "version": "2.7.6"
  }
 },
 "nbformat": 4,
 "nbformat_minor": 5
}
